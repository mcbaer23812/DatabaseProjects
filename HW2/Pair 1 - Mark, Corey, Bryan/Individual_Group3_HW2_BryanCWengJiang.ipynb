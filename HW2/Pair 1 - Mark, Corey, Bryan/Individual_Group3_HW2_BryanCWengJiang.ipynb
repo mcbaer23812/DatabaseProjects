{
    "metadata": {
        "kernelspec": {
            "name": "SQL",
            "display_name": "SQL",
            "language": "sql"
        },
        "language_info": {
            "name": "sql",
            "version": ""
        }
    },
    "nbformat_minor": 2,
    "nbformat": 4,
    "cells": [
        {
            "cell_type": "markdown",
            "source": [
                "# **PART \\[1\\] - SHOWCASE ALL 10 OF THE PROPOSITIONS AND QUERIES**\n",
                "\n",
                "**Proposition \\[I\\] - Calculating the Total Discount Given by Each Employee**\n",
                "\n",
                "- **Why Noteworthy?**\n",
                "- _This query is useful for identifying high-performing employees or specific periods where freight values were unusually high. It combines aggregation with filters (like HAVING) to focus on employees who managed significant freight transactions, allowing businesses to target their most impactful workers._"
            ],
            "metadata": {
                "azdata_cell_guid": "962a19c3-d075-456f-9489-0e0494130d53"
            },
            "attachments": {}
        },
        {
            "cell_type": "code",
            "source": [
                "SELECT empid \"Employee Identification Number(s)\", YEAR(orderdate) AS \"The Year of the Order(s)\", COUNT(*) AS \"Number(s) of Order(s)\", MAX(freight) AS \"Maximum Number(s) of Freight(s) (Goods or Cargo Being Transported)\"\r\n",
                "FROM Sales.Orders\r\n",
                "GROUP BY empid, YEAR(orderdate)\r\n",
                "HAVING MAX(freight) > 200;"
            ],
            "metadata": {
                "azdata_cell_guid": "a5e49b37-2593-4758-b3e7-e66750f48ded",
                "language": "sql",
                "tags": []
            },
            "outputs": [],
            "execution_count": null
        },
        {
            "cell_type": "markdown",
            "source": [
                "**Proposition \\[II\\] -** **Identifying Customers Who Haven’t Ordered in the Last 6 Months**\n",
                "\n",
                "- **Why Noteworthy?**\n",
                "- _This query is significant for customer retention strategies. It helps businesses identify lapsed customers who haven’t engaged in recent months, allowing for targeted reactivation campaigns._"
            ],
            "metadata": {
                "azdata_cell_guid": "281d6b5e-5420-4c5b-88e2-b97718b52e53"
            },
            "attachments": {}
        },
        {
            "cell_type": "code",
            "source": [
                "SELECT custid AS \"Customer Identification Number(s)\", MAX(orderdate) AS \"Date(s) of the Last Order(s) Placed by the Customer(s)\"\r\n",
                "FROM Sales.Orders\r\n",
                "GROUP BY custid \r\n",
                "HAVING MAX(orderdate) < DATEADD(MONTH, -6, SYSDATETIME());"
            ],
            "metadata": {
                "azdata_cell_guid": "b05f3965-83d3-4826-add7-305f833be6a7",
                "language": "sql",
                "tags": []
            },
            "outputs": [],
            "execution_count": null
        },
        {
            "cell_type": "markdown",
            "source": [
                "**Proposition \\[III\\] -** **Finding Employees with the Highest Average Order Value per Month**\n",
                "\n",
                "- **Why Noteworthy?**\n",
                "- _This query provides insights into employee performance in terms of sales efficiency. By calculating average order value and grouping by both employee and time period, it allows for detailed analysis of sales patterns and individual performance._"
            ],
            "metadata": {
                "azdata_cell_guid": "f87a463e-2f77-431b-bcca-65c35eb6576b"
            },
            "attachments": {}
        },
        {
            "cell_type": "code",
            "source": [
                "SELECT empid AS \"Employee Identification Number(s)\", YEAR(orderdate) AS \"The Year of the Order(s)\", MONTH(orderdate) AS \"The Month of the Order(s)\", AVG(freight) AS \"Average Order(s) of Value(s)\"\r\n",
                "FROM Sales.Orders\r\n",
                "GROUP BY empid, YEAR(orderdate), MONTH(orderdate)\r\n",
                "HAVING AVG(freight) > 150\r\n",
                "ORDER BY \"Average Order(s) of Value(s)\" DESC;"
            ],
            "metadata": {
                "azdata_cell_guid": "d3870b9e-922c-4035-8345-ef7b9c469a69",
                "language": "sql"
            },
            "outputs": [],
            "execution_count": null
        },
        {
            "cell_type": "markdown",
            "source": [
                "**Proposition \\[IV\\] -** **Date-based Aggregation with Monthly Grouping and Freight**\n",
                "\n",
                "- **Why Noteworthy?**\n",
                "- _The combination of aggregating by year and month and the use of the HAVING clause makes this query very powerful. It is an ideal tool for identifying trends across multiple time periods and can highlight periods of low or high performance based on order volume and total orders._"
            ],
            "metadata": {
                "azdata_cell_guid": "14f8f2d2-617d-42e5-9de1-0d16e24b4624"
            },
            "attachments": {}
        },
        {
            "cell_type": "code",
            "source": [
                "SELECT YEAR(orderdate) AS Year, MONTH(orderdate) AS Month, COUNT(*) AS Orders, SUM(freight) AS \"Total Freight(s) (Goods or Cargo Being Transported)\"\r\n",
                "FROM Sales.Orders\r\n",
                "GROUP BY YEAR(orderdate), MONTH(orderdate)\r\n",
                "HAVING COUNT(*) > 5\r\n",
                "ORDER BY year, month;"
            ],
            "metadata": {
                "azdata_cell_guid": "c63e597e-704c-4998-b378-33d0a2c10a04",
                "language": "sql",
                "tags": []
            },
            "outputs": [],
            "execution_count": null
        },
        {
            "cell_type": "markdown",
            "source": [
                "**Proposition \\[V\\] -** **Query to Return Orders with Specific Product Condition**\n",
                "\n",
                "- **Why Noteworthy?**\n",
                "- _This query is noteworthy for its focused filtering on price and discount, two common business factors that affect profitability. The use of BETWEEN for range filtering and a simple equality check (discount = 0) is efficient for pinpointing high-margin items or non-discounted sales in a given price range._"
            ],
            "metadata": {
                "azdata_cell_guid": "2eca59e2-23c4-4dc5-84ff-2cba001f54ef"
            },
            "attachments": {}
        },
        {
            "cell_type": "code",
            "source": [
                "SELECT orderid AS \"Order Identification Number(s)\", productid AS \"Product Identification Number(s)\", qty AS \"Quantities\", unitprice AS \"Unit Price(s)\"\r\n",
                "FROM Sales.OrderDetails\r\n",
                "WHERE unitprice BETWEEN 20 AND 50\r\n",
                "  AND discount = 0;"
            ],
            "metadata": {
                "azdata_cell_guid": "64244230-09d4-4d28-b70e-4ee04c625fce",
                "language": "sql"
            },
            "outputs": [],
            "execution_count": null
        },
        {
            "cell_type": "markdown",
            "source": [
                "**Proposition \\[VI\\] -** **Query for Employees Ordered by Last Name and Hire Date**\n",
                "\n",
                "- **Why Noteworthy?**\n",
                "- _This is a simple but effective example of multi-column sorting. The query is noteworthy because it provides two levels of sorting, which is a common pattern when managing lists that need to be organized hierarchically (e.g., last name first, then hire date)._"
            ],
            "metadata": {
                "azdata_cell_guid": "c62a4d5f-7eec-4bcd-a961-c8831b6da322"
            },
            "attachments": {}
        },
        {
            "cell_type": "code",
            "source": [
                "SELECT empid AS \"Employee Identification Number(s)\", firstname AS \"First Name(s)\", lastname AS \"Last Name(s)\", hiredate AS \"Date(s) of Hire\"\r\n",
                "FROM HR.Employees\r\n",
                "ORDER BY lastname ASC, hiredate DESC;"
            ],
            "metadata": {
                "azdata_cell_guid": "e33cadb2-bb9e-496a-be80-a4725ae4cabe",
                "language": "sql",
                "tags": []
            },
            "outputs": [],
            "execution_count": null
        },
        {
            "cell_type": "markdown",
            "source": [
                "**Proposition \\[VII\\] -** **Products with Highest Discount Offered in Orders**\n",
                "\n",
                "- **Why Noteworthy?**\n",
                "- _This query is interesting because it reveals how often and by how much products are discounted, which is valuable for pricing strategy and promotions. Using MAX helps to spot the highest possible discount for each product, rather than averaging._"
            ],
            "metadata": {
                "azdata_cell_guid": "6e72a49f-51aa-4b7b-a7f6-101edbf67f7b"
            },
            "attachments": {}
        },
        {
            "cell_type": "code",
            "source": [
                "SELECT productid AS \"Product Identification Number(s)\", MAX(discount) AS \"Maximum Discount Value(s)\"\r\n",
                "FROM Sales.OrderDetails\r\n",
                "GROUP BY productid\r\n",
                "ORDER BY \"Maximum Discount Value(s)\" DESC;"
            ],
            "metadata": {
                "azdata_cell_guid": "fbb25294-fd98-49b3-841a-4b355036e85d",
                "language": "sql",
                "tags": []
            },
            "outputs": [],
            "execution_count": null
        },
        {
            "cell_type": "markdown",
            "source": [
                "**Proposition \\[VIII\\] -** **Orders with a Product Quantity Greater Than 100 Units**\n",
                "\n",
                "- **Why Noteworthy?**\n",
                "- _This query helps identify bulk purchases or large transactions, which can be useful for inventory planning, identifying high-value customers, or analyzing demand for large quantities of specific products._"
            ],
            "metadata": {
                "azdata_cell_guid": "5b31908d-4678-4df9-91bf-eeaa4c6a328f"
            },
            "attachments": {}
        },
        {
            "cell_type": "code",
            "source": [
                "SELECT orderid AS \"Order Identification Number(s)\", productid AS \"Product Identification Number(s)\", qty AS \"Quantities\"\r\n",
                "FROM Sales.OrderDetails\r\n",
                "WHERE qty > 100;"
            ],
            "metadata": {
                "azdata_cell_guid": "87bb0723-5a84-4564-b397-3be4ca6768c4",
                "language": "sql"
            },
            "outputs": [],
            "execution_count": null
        },
        {
            "cell_type": "markdown",
            "source": [
                "**Proposition \\[IX\\] -** **Identifying High-Value Customers with Large Orders and High Freight Costs**\n",
                "\n",
                "- **Why Noteworthy?**\n",
                "- _This query identifies high-value customers who place frequent, high-cost orders. It helps companies focus on top customers that drive significant revenue and freight expenses, making them prime targets for loyalty programs or special offers._"
            ],
            "metadata": {
                "azdata_cell_guid": "80a0a90e-bb04-434c-afcb-0008692ef09d"
            },
            "attachments": {}
        },
        {
            "cell_type": "code",
            "source": [
                "SELECT custid \"Customer Identification Number(s)\", COUNT(*) AS Orders, AVG(freight) AS \"Average Number(s) of Freight(s) (Goods or Cargo Being Transported)\"\r\n",
                "FROM Sales.Orders\r\n",
                "WHERE freight > 100\r\n",
                "GROUP BY custid\r\n",
                "HAVING COUNT(*) > 10;"
            ],
            "metadata": {
                "azdata_cell_guid": "327798ec-f931-4679-885d-5cf6ffc4f978",
                "language": "sql"
            },
            "outputs": [],
            "execution_count": null
        },
        {
            "cell_type": "markdown",
            "source": [
                "**Proposition \\[X\\] -** **Orders Where Total Value Exceeds $1,000**\n",
                "\n",
                "- **Why Noteworthy?**\n",
                "- _This query allows businesses to track high-value orders easily. It’s particularly useful for monitoring larger transactions or high-margin sales._"
            ],
            "metadata": {
                "azdata_cell_guid": "8dc175c0-97d7-464c-a15e-a242517516e2"
            },
            "attachments": {}
        },
        {
            "cell_type": "code",
            "source": [
                "SELECT orderid AS \"Order Identification Number(s)\", SUM(unitprice * qty) AS \"Total Value(s) of the Order(s)\"\r\n",
                "FROM Sales.OrderDetails\r\n",
                "GROUP BY orderid\r\n",
                "HAVING SUM(unitprice * qty) > 1000;"
            ],
            "metadata": {
                "azdata_cell_guid": "8d53c4de-ab73-40db-b57b-4b489dce0316",
                "language": "sql",
                "tags": []
            },
            "outputs": [],
            "execution_count": null
        },
        {
            "cell_type": "markdown",
            "source": [
                "# **PART \\[II\\] - NOTETAKING FOR CHAPTER 2 \"SINGLE-TABLE QUERIES\"**\n",
                "\n",
                "**DATETRUNC Function**\n",
                "\n",
                "- _The DATETRUNC function in SQL Server allows users to truncate a date and time value to a specified part, such as year, month, or day, effectively resetting the lower-level components to their starting point. It returns an output of the same type and fractional time scale as the input when the input is a date and time type. If the input is a character string, the result is returned as DATETIME2(7). The function supports various time parts, including year, month, day, hour, and more, with shorthand abbreviations like yy for year and mm for month. For instance, calling DATETRUNC(month, '20220212') returns 2022-02-01 00:00:00.0000000, which is the beginning of the month. This function is useful for aggregating data at different time intervals, ensuring that date comparisons and calculations align with the intended level of granularity._\n",
                "\n",
                "**DATE\\_BUCKET Function**\n",
                "\n",
                "- _Introduced in SQL Server 2022, the DATE\\_BUCKET function serves as an advanced version of DATETRUNC, allowing users to group dates into evenly spaced intervals or \"buckets\" based on a specified width. Unlike DATETRUNC, which simply resets a date to a given unit, DATE\\_BUCKET lets users define an origin date and bucket width to create more flexible time-based groupings. This function is particularly useful for analyzing time-series data by segmenting it into predefined periods, such as weeks or quarters, for reporting and visualization purposes. It helps in scenarios where precise interval-based calculations are required, such as determining customer activity over regular time spans._\n",
                "\n",
                "**ISDATE Function**\n",
                "\n",
                "- _The ISDATE function in SQL Server determines whether a given character string can be converted into a valid date and time data type. It returns 1 if the input string is a valid date format and 0 otherwise. This function is useful when dealing with user input, ensuring that values can be safely processed without causing errors in date-based calculations. For example, SELECT ISDATE('20220212') returns 1, confirming that it is a valid date, while SELECT ISDATE('20220230') returns 0, as February 30th does not exist. This function is particularly helpful in data validation, where it ensures that incorrect or malformed dates do not disrupt query execution._\n",
                "\n",
                "**FROMPARTS Functions**\n",
                "\n",
                "- _The FROMPARTS functions in SQL Server allow users to construct date and time values from individual components such as year, month, day, hour, and minute. Various functions, including DATEFROMPARTS, DATETIME2FROMPARTS, and TIMEFROMPARTS, cater to different levels of precision and types of date-time representations. For instance, DATEFROMPARTS(2022, 02, 12) returns the date 2022-02-12, while DATETIMEFROMPARTS(2022, 02, 12, 13, 30, 5, 997) constructs a full timestamp. These functions simplify the process of working with dates, especially when dealing with data migration or formatting issues, by allowing precise control over each component of a date or time value._\n",
                "\n",
                "**EOMONTH Function**\n",
                "\n",
                "- _The EOMONTH function is used to retrieve the last day of the month for a given date. This function accepts an optional second argument that determines how many months to add or subtract before calculating the end of the month. For example, SELECT EOMONTH(SYSDATETIME()) returns the last day of the current month, while EOMONTH('20220212', 1) returns the last day of the following month, March 2022. The EOMONTH function simplifies date calculations in scenarios such as financial reporting, where determining the end of a billing cycle or fiscal month is crucial. It eliminates the need for manual date manipulation, making queries cleaner and more efficient._\n",
                "\n",
                "**Alternative Expression for End-of-Month Calculation**\n",
                "\n",
                "- _An alternative method to calculate the last day of a month involves using the DATEADD and DATEDIFF functions. This technique subtracts a reference date, such as '18991231', from the target date in terms of months, then adds that difference back to the reference date. While more complex than EOMONTH, this method allows flexibility in computing not only the last day of a month but also other time-based aggregations like the start or end of a quarter or year. This approach is valuable when working in environments where built-in functions like EOMONTH may not be available or when fine-tuned control over date calculations is required._\n",
                "\n",
                "**GENERATE\\_SERIES Function**\n",
                "\n",
                "- _The GENERATE\\_SERIES function, introduced in SQL Server 2022, generates a sequence of numbers within a specified range, making it useful for creating datasets on the fly. The function accepts three arguments: start\\_value, stop\\_value, and an optional step\\_value, which defines the increment. By default, the step value is 1 for increasing sequences and -1 for decreasing sequences. For example, SELECT value FROM GENERATE\\_SERIES(1, 10) produces numbers from 1 to 10. This function is particularly useful for generating sequences of dates when combined with DATEADD. For instance, it can create a list of all dates in a given year by incrementing days from a start date. This capability is beneficial in time-series analysis, reporting, and simulations._\n",
                "\n",
                "**Querying Metadata in SQL Server**\n",
                "\n",
                "- _SQL Server provides various tools to retrieve metadata about database objects, such as tables and columns, allowing users to understand and manage their database structures efficiently. These tools include catalog views, information schema views, and system stored procedures. Metadata queries can help database administrators and developers inspect table structures, check column properties, and optimize queries based on database schemas. For example, querying sys.tables lists all tables within a database, while sys.columns provides details about the columns in a specific table. This metadata access ensures better database management, debugging, and schema documentation._\n",
                "\n",
                "**Catalog Views**\n",
                "\n",
                "- _Catalog views in SQL Server provide system-level metadata about database objects, offering insights into tables, indexes, constraints, and more. These views are useful for querying information about a database’s schema and structure, allowing users to retrieve details such as table names, column properties, and object relationships. For instance, querying sys.tables returns a list of all tables, including their schema names, while sys.columns reveals column-specific metadata. These views are essential for managing large databases, automating schema documentation, and optimizing queries by understanding the underlying structure of database objects._\n",
                "\n",
                "**Information Schema Views**\n",
                "\n",
                "- _Information schema views offer a standardized way to query metadata across different SQL database systems. These views reside in the INFORMATION\\_SCHEMA schema and provide details about tables, columns, constraints, and other database elements. Unlike catalog views, which contain SQL Server-specific metadata, information schema views follow the SQL standard, ensuring compatibility with multiple database systems. For example, querying INFORMATION\\_SCHEMA.TABLES lists all base tables in a database, while INFORMATION\\_SCHEMA.COLUMNS provides information about a table’s columns. These views are valuable for ensuring cross-platform compatibility and simplifying database maintenance._\n",
                "\n",
                "**System Stored Procedures and Functions**\n",
                "\n",
                "- _SQL Server includes a variety of system stored procedures and functions that simplify metadata retrieval and database management. These procedures internally query the system catalog and return structured metadata. Examples include sp\\_tables, which lists available tables, sp\\_help, which provides detailed information about a table's structure, and sp\\_columns, which lists column details for a given table. Functions like SERVERPROPERTY, DATABASEPROPERTYEX, and OBJECTPROPERTY return specific properties about the server, database, and individual objects. These tools are particularly useful for database administrators who need to retrieve metadata dynamically, automate database documentation, or analyze schema changes efficiently._"
            ],
            "metadata": {
                "azdata_cell_guid": "4ca2f975-384e-4fdf-a93d-b4fc04776c49"
            },
            "attachments": {}
        },
        {
            "cell_type": "markdown",
            "source": [
                "# **PART \\[III\\] - EXERCISES FOR CHAPTER 2 \"SINGLE-TABLE QUERIES\"**\n",
                "\n",
                "**Exercise (1)** \n",
                "\n",
                "- _Return orders placed in June 2015_\n",
                "- _Tables involved: TSQLV4 database, Sales.Orders table_"
            ],
            "metadata": {
                "azdata_cell_guid": "f5c62699-906f-46e9-8380-3c4da07f9ae6"
            },
            "attachments": {}
        },
        {
            "cell_type": "code",
            "source": [
                "-- USE TSQLV4;\r\n",
                "-- GO\r\n",
                "\r\n",
                "-- SELECT orderid,\r\n",
                "--         orderdate,\r\n",
                "--         custid,\r\n",
                "--         empid\r\n",
                "-- FROM Sales.Orders\r\n",
                "-- WHERE orderdate >= '2015-06-01'\r\n",
                "--   AND orderdate < '2015-07-01';"
            ],
            "metadata": {
                "azdata_cell_guid": "16ba91a2-94a2-42e8-a98a-d3fc0bbbe436",
                "language": "sql"
            },
            "outputs": [
                {
                    "output_type": "display_data",
                    "data": {
                        "text/html": "Commands completed successfully."
                    },
                    "metadata": {}
                },
                {
                    "output_type": "display_data",
                    "data": {
                        "text/html": "Total execution time: 00:00:00.002"
                    },
                    "metadata": {}
                }
            ],
            "execution_count": 4
        },
        {
            "cell_type": "markdown",
            "source": [
                "**Exercise (2)** \n",
                "\n",
                "- _Return orders placed on the last day of the month_\n",
                "- _Tables involved: Sales.Orders table_"
            ],
            "metadata": {
                "azdata_cell_guid": "0f756e2d-378b-4028-a1d2-bfbfcaa41f70"
            },
            "attachments": {}
        },
        {
            "cell_type": "code",
            "source": [
                "-- USE TSQLV4;\r\n",
                "-- GO\r\n",
                "\r\n",
                "-- SELECT orderid,\r\n",
                "--        orderdate,\r\n",
                "--        custid,\r\n",
                "--        empid\r\n",
                "-- FROM Sales.Orders\r\n",
                "-- WHERE orderdate = EOMONTH(orderdate);"
            ],
            "metadata": {
                "azdata_cell_guid": "a3d3d665-9bec-4cd4-8bf7-be6d30b8c96b",
                "language": "sql"
            },
            "outputs": [
                {
                    "output_type": "display_data",
                    "data": {
                        "text/html": "Commands completed successfully."
                    },
                    "metadata": {}
                },
                {
                    "output_type": "display_data",
                    "data": {
                        "text/html": "Total execution time: 00:00:00.002"
                    },
                    "metadata": {}
                }
            ],
            "execution_count": 5
        },
        {
            "cell_type": "markdown",
            "source": [
                "**Exercise (3)** \n",
                "\n",
                "- _Return employees with last name containing the letter 'e' twice or more_\n",
                "- _Tables involved: HR.Employees table_"
            ],
            "metadata": {
                "azdata_cell_guid": "b6037bab-0bf7-46e3-9a46-5ce453b4fc7c"
            },
            "attachments": {}
        },
        {
            "cell_type": "code",
            "source": [
                "-- USE TSQLV4;\r\n",
                "-- GO\r\n",
                "\r\n",
                "-- SELECT empid,\r\n",
                "--        firstname,\r\n",
                "--        lastname\r\n",
                "-- FROM HR.Employees\r\n",
                "-- WHERE lastname LIKE '%e%e%';"
            ],
            "metadata": {
                "azdata_cell_guid": "23669031-2721-484c-aa94-e6a5b6061657",
                "language": "sql"
            },
            "outputs": [
                {
                    "output_type": "display_data",
                    "data": {
                        "text/html": "Commands completed successfully."
                    },
                    "metadata": {}
                },
                {
                    "output_type": "display_data",
                    "data": {
                        "text/html": "Total execution time: 00:00:00.001"
                    },
                    "metadata": {}
                }
            ],
            "execution_count": 6
        },
        {
            "cell_type": "markdown",
            "source": [
                "**Exercise (4)** \n",
                "\n",
                "- _Return orders with total value(qty\\*unitprice) greater than 10000_\n",
                "- _Sorted by total value_\n",
                "- _Tables involved: Sales.OrderDetails table_"
            ],
            "metadata": {
                "azdata_cell_guid": "feb38eb0-15b2-4af3-a75a-368356139563"
            },
            "attachments": {}
        },
        {
            "cell_type": "code",
            "source": [
                "-- USE TSQLV4;\r\n",
                "-- GO\r\n",
                "\r\n",
                "-- SELECT orderid,\r\n",
                "--        SUM(qty * unitprice) AS totalvalue\r\n",
                "-- FROM Sales.OrderDetails\r\n",
                "-- GROUP BY orderid\r\n",
                "-- HAVING SUM(qty * unitprice) > 10000\r\n",
                "-- ORDER BY totalvalue DESC;"
            ],
            "metadata": {
                "azdata_cell_guid": "62011db8-0c4f-4764-a1bb-5b20b9b366ec",
                "language": "sql"
            },
            "outputs": [
                {
                    "output_type": "display_data",
                    "data": {
                        "text/html": "Commands completed successfully."
                    },
                    "metadata": {}
                },
                {
                    "output_type": "display_data",
                    "data": {
                        "text/html": "Total execution time: 00:00:00.001"
                    },
                    "metadata": {}
                }
            ],
            "execution_count": 7
        },
        {
            "cell_type": "markdown",
            "source": [
                "**Exercise (5)** \n",
                "\n",
                "- _Write a query against the HR.Employees table that returns employees_\n",
                "- _With a last name that starts with a lower case letter._\n",
                "- _Remember that the collation of the sample database_\n",
                "- _Is case insensitive (Latin1\\_General\\_CI\\_AS)._\n",
                "- _For simplicity, you can assume that only English letters are used_\n",
                "- _In the employee last names._\n",
                "- _Tables involved: Sales.OrderDetails table_"
            ],
            "metadata": {
                "azdata_cell_guid": "2e8186f8-1a65-4c8b-9cdc-e133b1fa4cbb"
            },
            "attachments": {}
        },
        {
            "cell_type": "code",
            "source": [
                "-- USE TSQLV4;\r\n",
                "-- GO\r\n",
                "\r\n",
                "-- SELECT empid, lastname\r\n",
                "-- FROM HR.Employees\r\n",
                "-- WHERE lastname COLLATE Latin1_General_CS_AS LIKE '[a-z]%';"
            ],
            "metadata": {
                "azdata_cell_guid": "7bc13bd6-5ad2-48dc-8dee-0c95d220fe21",
                "language": "sql"
            },
            "outputs": [
                {
                    "output_type": "display_data",
                    "data": {
                        "text/html": "Commands completed successfully."
                    },
                    "metadata": {}
                },
                {
                    "output_type": "display_data",
                    "data": {
                        "text/html": "Total execution time: 00:00:00.001"
                    },
                    "metadata": {}
                }
            ],
            "execution_count": 8
        },
        {
            "cell_type": "markdown",
            "source": [
                "**Exercise (6)** \n",
                "\n",
                "- _Explain the difference between the following two queries_"
            ],
            "metadata": {
                "azdata_cell_guid": "43bda74b-2438-4157-a150-4dd712eed8b2"
            },
            "attachments": {}
        },
        {
            "cell_type": "code",
            "source": [
                "-- Query 1\r\n",
                "-- SELECT empid, COUNT(*) AS numorders\r\n",
                "-- FROM Sales.Orders\r\n",
                "-- WHERE orderdate < '20160501'\r\n",
                "-- GROUP BY empid;\r\n",
                "-- Query 1 counts only orders that occurred before May 1, 2016, ignoring orders placed afterward.\r\n",
                "\r\n",
                "-- Query 2\r\n",
                "-- SELECT empid, COUNT(*) AS numorders\r\n",
                "-- FROM Sales.Orders\r\n",
                "-- GROUP BY empid\r\n",
                "-- HAVING MAX(orderdate) < '20160501';\r\n",
                "-- Query 2 considers all orders but only includes employees whose latest order was before May 1, 2016."
            ],
            "metadata": {
                "azdata_cell_guid": "7a63a9a7-e4c3-4335-848b-b6b9fbd0e3b4",
                "language": "sql"
            },
            "outputs": [
                {
                    "output_type": "display_data",
                    "data": {
                        "text/html": "Commands completed successfully."
                    },
                    "metadata": {}
                },
                {
                    "output_type": "display_data",
                    "data": {
                        "text/html": "Total execution time: 00:00:00.001"
                    },
                    "metadata": {}
                }
            ],
            "execution_count": 9
        },
        {
            "cell_type": "markdown",
            "source": [
                "**Exercise (7)** \n",
                "\n",
                "- _Return the three ship countries with the highest average freight for orders placed in 2015_\n",
                "- _Tables involved: Sales.Orders table_"
            ],
            "metadata": {
                "azdata_cell_guid": "0885c3f4-9523-4da8-8755-e1450dba5e85"
            },
            "attachments": {}
        },
        {
            "cell_type": "code",
            "source": [
                "-- USE TSQLV4;\r\n",
                "-- GO\r\n",
                "\r\n",
                "-- SELECT TOP 3 shipcountry, AVG(freight) AS avgfreight\r\n",
                "-- FROM Sales.Orders\r\n",
                "-- WHERE YEAR(orderdate) = 2015\r\n",
                "-- GROUP BY shipcountry\r\n",
                "-- ORDER BY avgfreight DESC;"
            ],
            "metadata": {
                "azdata_cell_guid": "1059e79d-3029-458e-a4ed-6739c3da8767",
                "language": "sql"
            },
            "outputs": [
                {
                    "output_type": "display_data",
                    "data": {
                        "text/html": "Commands completed successfully."
                    },
                    "metadata": {}
                },
                {
                    "output_type": "display_data",
                    "data": {
                        "text/html": "Total execution time: 00:00:00.001"
                    },
                    "metadata": {}
                }
            ],
            "execution_count": 10
        },
        {
            "cell_type": "markdown",
            "source": [
                "**Exercise (8)** \n",
                "\n",
                "- _Calculate row numbers for orders_\n",
                "- _Based on order date ordering (using order id as tiebreaker)_\n",
                "- _For each customer separately_\n",
                "- _Tables involved: Sales.Orders table_"
            ],
            "metadata": {
                "azdata_cell_guid": "925f9914-ef9f-4cf2-9afc-eee3c1bf39a9"
            },
            "attachments": {}
        },
        {
            "cell_type": "code",
            "source": [
                "-- USE TSQLV4;\r\n",
                "-- GO\r\n",
                "\r\n",
                "-- SELECT custid,\r\n",
                "--        orderdate,\r\n",
                "--        orderid,\r\n",
                "--        ROW_NUMBER() OVER (PARTITION BY custid ORDER BY orderdate, orderid) AS rownum\r\n",
                "-- FROM Sales.Orders;"
            ],
            "metadata": {
                "azdata_cell_guid": "aca076b6-dbfc-4173-a288-35f6a67c6091",
                "language": "sql"
            },
            "outputs": [
                {
                    "output_type": "display_data",
                    "data": {
                        "text/html": "Commands completed successfully."
                    },
                    "metadata": {}
                },
                {
                    "output_type": "display_data",
                    "data": {
                        "text/html": "Total execution time: 00:00:00.001"
                    },
                    "metadata": {}
                }
            ],
            "execution_count": 11
        },
        {
            "cell_type": "markdown",
            "source": [
                "**Exercise (9)** \n",
                "\n",
                "- _Figure out and return for each employee the gender based on the title of courtesy_\n",
                "- _Ms., Mrs. - Female, Mr. - Male, Dr. - Unknown_\n",
                "- _Tables involved: HR.Employees table_"
            ],
            "metadata": {
                "azdata_cell_guid": "02951f44-b28d-46d4-8f62-77c9c33bede3"
            },
            "attachments": {}
        },
        {
            "cell_type": "code",
            "source": [
                "-- USE TSQLV4;\r\n",
                "-- GO\r\n",
                "\r\n",
                "-- SELECT empid,\r\n",
                "--        firstname,\r\n",
                "--        lastname,\r\n",
                "--        titleofcourtesy,\r\n",
                "--        CASE \r\n",
                "--            WHEN titleofcourtesy IN ('Ms.', 'Mrs.') THEN 'Female'\r\n",
                "--            WHEN titleofcourtesy = 'Mr.' THEN 'Male'\r\n",
                "--            ELSE 'Unknown'\r\n",
                "--        END AS gender\r\n",
                "-- FROM HR.Employees;"
            ],
            "metadata": {
                "azdata_cell_guid": "97d5c951-a857-427d-998e-6a1059233445",
                "language": "sql"
            },
            "outputs": [
                {
                    "output_type": "display_data",
                    "data": {
                        "text/html": "Commands completed successfully."
                    },
                    "metadata": {}
                },
                {
                    "output_type": "display_data",
                    "data": {
                        "text/html": "Total execution time: 00:00:00.001"
                    },
                    "metadata": {}
                }
            ],
            "execution_count": 12
        },
        {
            "cell_type": "markdown",
            "source": [
                "**Exercise (10)** \n",
                "\n",
                "- _Return for each customer the customer ID and region_\n",
                "- _Sort the rows in the output by region_\n",
                "- _Having NULLs sort last (after non-NULL values)_\n",
                "- _Note that the default in T-SQL is that NULLs sort first_\n",
                "- _Tables involved: Sales.Customers table_"
            ],
            "metadata": {
                "azdata_cell_guid": "15b7e7d2-ee0c-47bc-90c3-a7af5b046f05"
            },
            "attachments": {}
        },
        {
            "cell_type": "code",
            "source": [
                "-- USE TSQLV4;\r\n",
                "-- GO\r\n",
                "\r\n",
                "-- SELECT custid,\r\n",
                "--        region\r\n",
                "-- FROM Sales.Customers\r\n",
                "-- ORDER BY \r\n",
                "--        CASE WHEN region IS NULL THEN 1 ELSE 0 END,\r\n",
                "--        region;"
            ],
            "metadata": {
                "azdata_cell_guid": "451e0cb5-6e55-46d9-b587-1a78da1e032e",
                "language": "sql"
            },
            "outputs": [
                {
                    "output_type": "display_data",
                    "data": {
                        "text/html": "Commands completed successfully."
                    },
                    "metadata": {}
                },
                {
                    "output_type": "display_data",
                    "data": {
                        "text/html": "Total execution time: 00:00:00.001"
                    },
                    "metadata": {}
                }
            ],
            "execution_count": 13
        },
        {
            "cell_type": "markdown",
            "source": [
                "# **PART \\[IV\\] - NATIONAL ASSOCIATION OF COLLEGES AND EMPLOYERS**\n",
                "\n",
                "**Skills Acquired Through These National Association of Colleges and Employers Career Readiness Competencies For This Group Assignment:**  \n",
                "\n",
                "-     _Equity & Inclusion: Fostered awareness and sensitivity towards diverse perspectives, promoting inclusivity and equality in professional settings._\n",
                "-     _Career & Self-Development: Showcased the ability to set goals, identify personal strengths and weaknesses, and craft effective career development plans._\n",
                "-     _Communication: Enhanced verbal and written communication skills to facilitate clear, concise interactions._\n",
                "-     _Critical Thinking: Fostered analytical and problem-solving skills, approaching challenges with a systematic and innovative mindset._\n",
                "-     _Professionalism: Cultivated a professional demeanor by adhering to ethical standards and demonstrating accountability and reliability in the workplace._\n",
                "-     _Technology: Gained proficiency in relevant technologies to improve efficiency and productivity in job-related tasks._\n",
                "-     _Leadership: Developed leadership skills, including motivating and guiding team members, fostering collaboration, and inspiring positive change._\n",
                "-     _Teamwork: Learned to collaborate and communicate effectively in a team, appreciating diverse contributions and working towards common goals._"
            ],
            "metadata": {
                "azdata_cell_guid": "c359969e-d8a3-446e-b2b1-a5332e24f1bc"
            },
            "attachments": {}
        }
    ]
}