{
    "metadata": {
        "kernelspec": {
            "name": "SQL",
            "display_name": "SQL",
            "language": "sql"
        },
        "language_info": {
            "name": "sql",
            "version": ""
        }
    },
    "nbformat_minor": 2,
    "nbformat": 4,
    "cells": [
        {
            "cell_type": "markdown",
            "source": [
                "**Problem 1**\n",
                "\n",
                "Return CityID, CityName, and StateProvinceID that have StateProvinceID from 21 to 40.\n",
                "\n",
                "Tables involved: WideWorldImporters database, Application.Cities table"
            ],
            "metadata": {
                "azdata_cell_guid": "81e2e46c-18d2-4f4f-9add-e96ff01a373d"
            },
            "attachments": {}
        },
        {
            "cell_type": "code",
            "source": [
                "USE WideWorldImporters;\n",
                "\n",
                "SELECT \n",
                "    CityID, \n",
                "    CityName, \n",
                "    StateProvinceID \n",
                "FROM \n",
                "    Application.Cities \n",
                "WHERE \n",
                "    StateProvinceID >= 21 AND StateProvinceID < 41;\n",
                "\n",
                "\n",
                "/*\n",
                "- The query asks for three pieces of information: CityID, CityName, and StateProvinceID.\n",
                "- The data comes from the \"Application.Cities\" table, which stores information about different cities.\n",
                "- The query only includes cities where the StateProvinceID is 21 or higher but less than 41.\n",
                "- This means it selects only the cities with a StateProvinceID between 21 and 40.\n",
                "- After filtering, the query shows the CityID, CityName, and StateProvinceID for the selected cities.\n",
                "*/"
            ],
            "metadata": {
                "azdata_cell_guid": "907c9f5b-47d8-4b76-b1a3-56982a4d5e7d",
                "language": "sql"
            },
            "outputs": [],
            "execution_count": null
        },
        {
            "cell_type": "markdown",
            "source": [
                "**Problem 2**\n",
                "\n",
                "Return CityID, CityName, StateProvinceID, and LatestRecordedPopulation of cities with at least 10000 population in ascending order.\n",
                "\n",
                "Tables involved: WideWorldImporters database, Application.Cities table"
            ],
            "metadata": {
                "azdata_cell_guid": "9899a7db-57d4-4bfc-9783-197b01a14c64"
            },
            "attachments": {}
        },
        {
            "cell_type": "code",
            "source": [
                "USE WideWorldImporters;\n",
                "\n",
                "SELECT \n",
                "    CityID, \n",
                "    CityName, \n",
                "    StateProvinceID, \n",
                "    LatestRecordedPopulation \n",
                "FROM Application.Cities \n",
                "WHERE LatestRecordedPopulation >= 10000 \n",
                "ORDER BY LatestRecordedPopulation;\n",
                "\n",
                "/*  \n",
                "1. The query requests four pieces of information: CityID, CityName, StateProvinceID, and LatestRecordedPopulation.  \n",
                "2. The data comes from the \"Application.Cities\" table, which contains details about various cities.  \n",
                "3. A filter is applied to include only cities where the LatestRecordedPopulation is 10,000 or more.  \n",
                "4. The results are sorted in ascending order based on the LatestRecordedPopulation, showing the smallest populations first.  \n",
                "*/"
            ],
            "metadata": {
                "azdata_cell_guid": "215f1c57-c758-4c5e-a164-ed99ece6bf02",
                "language": "sql"
            },
            "outputs": [],
            "execution_count": null
        },
        {
            "cell_type": "markdown",
            "source": [
                "**Problem 3**\n",
                "\n",
                "Return PurchaseOrderID, SupplierID, and PurchaseOrderDate for the orders placed on the last day of each month.\n",
                "\n",
                "Tables involved: WideWorldImporters database, Purchase.PurchaseOrders table"
            ],
            "metadata": {
                "azdata_cell_guid": "864c3a77-aa14-4006-ae24-83d2621c72b5"
            },
            "attachments": {}
        },
        {
            "cell_type": "code",
            "source": [
                "USE WideWorldImporters;\n",
                "\n",
                "SELECT \n",
                "    PurchaseOrderID,\n",
                "    SupplierID,\n",
                "    OrderDate\n",
                "FROM Purchasing.PurchaseOrders\n",
                "WHERE OrderDate = EOMONTH(OrderDate);\n",
                "\n",
                "/*  \n",
                "The query requests three pieces of information: PurchaseOrderID, SupplierID, and OrderDate.  \n",
                "\n",
                "The data comes from the \"Purchasing.PurchaseOrders\" table, which stores details about purchase orders made with suppliers.  \n",
                "\n",
                "A filter is applied to include only purchase orders where the OrderDate falls on the last day of the month.  \n",
                "The function \"EOMONTH(OrderDate)\" helps check if the OrderDate is the last day of its month.  \n",
                "\n",
                "The results show only the purchase orders that meet this condition.  \n",
                "*/"
            ],
            "metadata": {
                "azdata_cell_guid": "059ac694-c835-4691-a28c-8c7156d7187d",
                "language": "sql"
            },
            "outputs": [],
            "execution_count": null
        },
        {
            "cell_type": "markdown",
            "source": [
                "**Problem 4**\n",
                "\n",
                "Return PersonID, FullName, and PreferredName of the people in ascending order of FullName whose PreferredName starts with a letter between 'A' and 'H'\n",
                "\n",
                "Tables involved: WideWorldImporters database, Application.People table"
            ],
            "metadata": {
                "azdata_cell_guid": "362fd163-7413-4499-b9c9-46f37589d1f0"
            },
            "attachments": {}
        },
        {
            "cell_type": "code",
            "source": [
                "USE WideWorldImporters;\n",
                "\n",
                "SELECT \n",
                "    PersonID,\n",
                "    FullName,\n",
                "    PreferredName\n",
                "FROM Application.People\n",
                "WHERE PreferredName LIKE '[A-H]%'\n",
                "ORDER BY FullName;\n",
                "\n",
                "/*  \n",
                "The query requests three pieces of information: PersonID, FullName, and PreferredName.  \n",
                "\n",
                "The data comes from the \"Application.People\" table, which contains details about different individuals.  \n",
                "\n",
                "A filter is applied to include only people whose PreferredName starts with a letter from A to H.  \n",
                "The \"LIKE '[A-H]%'\" pattern ensures that only names beginning with these letters are selected.  \n",
                "\n",
                "The results are sorted in ascending order based on FullName.  \n",
                "*/"
            ],
            "metadata": {
                "azdata_cell_guid": "f058ce48-6e0a-4215-b5c2-d76a24f7e76b",
                "language": "sql"
            },
            "outputs": [],
            "execution_count": null
        },
        {
            "cell_type": "markdown",
            "source": [
                "**Problem 5**\n",
                "\n",
                "Return CustomerID and TotalTransactionAmount for the top 10 customers with the highest TotalTransactionAmount. TotalTransactionAmount is the sum of all TransactionAmount for each customer.\n",
                "\n",
                "Tables involved: WideWorldImporters database, Sales.CustomerTransactions table"
            ],
            "metadata": {
                "azdata_cell_guid": "280e7ee5-428a-4b28-9c02-8a89943de95c"
            },
            "attachments": {}
        },
        {
            "cell_type": "code",
            "source": [
                "USE WideWorldImporters;\n",
                "\n",
                "SELECT \n",
                "TOP 10\n",
                "    CustomerID,\n",
                "    SUM(TransactionAmount) AS TotalTransactionAmount\n",
                "FROM Sales.CustomerTransactions\n",
                "GROUP BY CustomerID\n",
                "ORDER BY TotalTransactionAmount DESC;\n",
                "\n",
                "/*  \n",
                "The query requests two pieces of information: CustomerID and the total transaction amount for each customer.  \n",
                "\n",
                "The data comes from the \"Sales.CustomerTransactions\" table, which stores details about customer transactions.  \n",
                "\n",
                "The transactions are grouped by CustomerID, meaning all transactions for each customer are added together.  \n",
                "The \"SUM(TransactionAmount)\" calculates the total amount spent by each customer.  \n",
                "\n",
                "The results are sorted in descending order based on the total transaction amount, showing the highest spenders first.  \n",
                "\n",
                "Only the top 10 customers with the highest total transaction amounts are displayed.  \n",
                "*/"
            ],
            "metadata": {
                "azdata_cell_guid": "f68a3a2c-b52c-4d0b-9b6a-46d2fe19222b",
                "language": "sql"
            },
            "outputs": [],
            "execution_count": null
        },
        {
            "cell_type": "markdown",
            "source": [
                "**Problem 6**\n",
                "\n",
                "Return Continent and NumberOfCountries under each continent.\n",
                "\n",
                "Tables involved: WideWorldImporters database, Application.Countries table"
            ],
            "metadata": {
                "azdata_cell_guid": "9a02d4b0-ceea-42ca-9cde-2267320e223c"
            },
            "attachments": {}
        },
        {
            "cell_type": "code",
            "source": [
                "USE WideWorldImporters;\n",
                "\n",
                "SELECT\n",
                "    Continent,\n",
                "    COUNT(CountryName) AS NumberOfCountries\n",
                "FROM\n",
                "    Application.Countries\n",
                "GROUP BY\n",
                "    Continent;\n",
                "\n",
                "/*  \n",
                "The query requests two pieces of information: Continent and the number of countries in each continent.  \n",
                "\n",
                "The data comes from the \"Application.Countries\" table, which contains details about different countries.  \n",
                "\n",
                "The countries are grouped by Continent, meaning all countries within the same continent are counted together.  \n",
                "The \"COUNT(CountryName)\" function calculates how many countries exist in each continent.  \n",
                "\n",
                "The results show each continent along with the total number of countries it contains.  \n",
                "*/\n",
                ""
            ],
            "metadata": {
                "azdata_cell_guid": "b4da1c9e-8c48-445b-b01c-d2dccb3490de",
                "language": "sql"
            },
            "outputs": [],
            "execution_count": null
        },
        {
            "cell_type": "markdown",
            "source": [
                "**Problem 7**\n",
                "\n",
                "Return Continent and LatestTotalPopulation of each continent. Sort these records in descending order.\n",
                "\n",
                "Tables involved: WideWorldImporters database, Application.Countries table"
            ],
            "metadata": {
                "azdata_cell_guid": "42afb46e-06a9-426b-80a0-2d17966ac1ef"
            },
            "attachments": {}
        },
        {
            "cell_type": "code",
            "source": [
                "USE WideWorldImporters;\n",
                "\n",
                "SELECT \n",
                "    Continent,\n",
                "    SUM(LatestRecordedPopulation) AS LatestTotalPopulation\n",
                "FROM\n",
                "    Application.Countries\n",
                "GROUP BY \n",
                "    Continent\n",
                "ORDER BY \n",
                "    LatestTotalPopulation DESC;\n",
                "\n",
                "/*  \n",
                "The query requests two pieces of information: Continent and the total population of all countries in each continent.  \n",
                "\n",
                "The data comes from the \"Application.Countries\" table, which contains details about different countries.  \n",
                "\n",
                "The countries are grouped by Continent, meaning all countries within the same continent are combined together.  \n",
                "The \"SUM(LatestRecordedPopulation)\" function calculates the total population for each continent.  \n",
                "\n",
                "The results are sorted in descending order based on the total population, showing the most populated continents first.  \n",
                "*/\n",
                ""
            ],
            "metadata": {
                "azdata_cell_guid": "318e4e9f-34f9-40aa-ac1e-172d55256438",
                "language": "sql"
            },
            "outputs": [],
            "execution_count": null
        },
        {
            "cell_type": "markdown",
            "source": [
                "**Problem 8**\n",
                "\n",
                "Return CustomerID and TotalTransactionAmount for the customers who have TotalTransactionAmount of positive value.\n",
                "\n",
                "Tables involved: WideWorldImporters database, Sales.CustomerTransactions table"
            ],
            "metadata": {
                "azdata_cell_guid": "a874b5f2-02bf-499f-b6be-38ea8592e89d"
            },
            "attachments": {}
        },
        {
            "cell_type": "code",
            "source": [
                "USE WideWorldImporters;\n",
                "\n",
                "SELECT\n",
                "    CustomerID,\n",
                "    SUM(TransactionAmount) AS TotalTransactionAmount\n",
                "FROM\n",
                "    Sales.CustomerTransactions\n",
                "GROUP BY \n",
                "    CustomerID\n",
                "HAVING\n",
                "    SUM(TransactionAmount) > 0;\n",
                "\n",
                "/*  \n",
                "The query requests two pieces of information: CustomerID and the total transaction amount for each customer.  \n",
                "\n",
                "The data comes from the \"Sales.CustomerTransactions\" table, which stores details about customer transactions.  \n",
                "\n",
                "The transactions are grouped by CustomerID, meaning all transactions for each customer are added together.  \n",
                "The \"SUM(TransactionAmount)\" calculates the total amount spent by each customer.  \n",
                "\n",
                "A filter is applied to include only customers whose total transaction amount is greater than 0.  \n",
                "This is done using the \"HAVING\" clause, which filters the grouped results after the calculation.  \n",
                "\n",
                "The results show each customer who has spent a positive total amount.  \n",
                "*/\n",
                ""
            ],
            "metadata": {
                "azdata_cell_guid": "22b4976e-2518-4192-baae-ea8ec0f02124",
                "language": "sql"
            },
            "outputs": [],
            "execution_count": null
        },
        {
            "cell_type": "markdown",
            "source": [
                "**Problem 9**\n",
                "\n",
                "Return Description and TotalPiecesSold of the top 10 most sold products.\n",
                "\n",
                "Tables involved: WideWorldImporters database,  Sales.InvoiceLines table"
            ],
            "metadata": {
                "azdata_cell_guid": "b45ce186-1bf5-4efa-a9f2-fc5a48e6c5ff"
            },
            "attachments": {}
        },
        {
            "cell_type": "code",
            "source": [
                "USE WideWorldImporters;\n",
                "\n",
                "SELECT TOP 10\n",
                "    [Description],\n",
                "    SUM(Quantity) as TotalPiecesSold\n",
                "FROM\n",
                "    Sales.InvoiceLines\n",
                "GROUP BY\n",
                "    [Description]\n",
                "ORDER BY\n",
                "    TotalPiecesSold;\n",
                "\n",
                "/*  \n",
                "The query requests two pieces of information: Description and the total quantity of items sold for each product.  \n",
                "\n",
                "The data comes from the \"Sales.InvoiceLines\" table, which contains details about the items sold in invoices.  \n",
                "\n",
                "The items are grouped by Description, meaning all sales of the same product are combined together.  \n",
                "The \"SUM(Quantity)\" calculates the total number of pieces sold for each product.  \n",
                "\n",
                "The results are sorted in ascending order based on the total number of pieces sold, showing the least sold items first.  \n",
                "\n",
                "Only the top 10 products with the lowest total quantity sold are displayed.  \n",
                "*/\n",
                ""
            ],
            "metadata": {
                "azdata_cell_guid": "6bb9b9b1-1037-4287-9d65-1fd6f75602df",
                "language": "sql"
            },
            "outputs": [],
            "execution_count": null
        },
        {
            "cell_type": "markdown",
            "source": [
                "**Problem 10**\n",
                "\n",
                "Return PackageTypeName that has at least 4 characters in its name.\n",
                "\n",
                "Tables involved: WideWorldImporters database, Warehouse.PackageTypes"
            ],
            "metadata": {
                "azdata_cell_guid": "bf1fcdbe-1b89-4d43-97a2-fd91f3828fd3"
            },
            "attachments": {}
        },
        {
            "cell_type": "code",
            "source": [
                "USE WideWorldImporters;\n",
                "\n",
                "SELECT \n",
                "    PackageTypeName \n",
                "FROM \n",
                "    Warehouse.PackageTypes\n",
                "WHERE\n",
                "    LEN(PackageTypeName) >= 4;\n",
                "\n",
                "/*  \n",
                "The query requests one piece of information: PackageTypeName.  \n",
                "\n",
                "The data comes from the \"Warehouse.PackageTypes\" table, which contains details about different types of packages.  \n",
                "\n",
                "A filter is applied to include only package types whose names have 4 or more characters.  \n",
                "The \"LEN(PackageTypeName)\" function calculates the length of each package type name, and the condition ensures only those with 4 or more characters are selected.  \n",
                "\n",
                "The results show the package types that meet this length requirement.  \n",
                "*/\n",
                ""
            ],
            "metadata": {
                "azdata_cell_guid": "d50bafa2-68b2-4f1c-90a4-f862e6810561",
                "language": "sql"
            },
            "outputs": [],
            "execution_count": null
        }
    ]
}